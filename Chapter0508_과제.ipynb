{
  "cells": [
    {
      "cell_type": "markdown",
      "metadata": {
        "id": "view-in-github",
        "colab_type": "text"
      },
      "source": [
        "<a href=\"https://colab.research.google.com/github/444474444/-/blob/main/Chapter0508_%E1%84%80%E1%85%AA%E1%84%8C%E1%85%A6.ipynb\" target=\"_parent\"><img src=\"https://colab.research.google.com/assets/colab-badge.svg\" alt=\"Open In Colab\"/></a>"
      ]
    },
    {
      "cell_type": "markdown",
      "metadata": {
        "id": "WXEwMsfUct7U"
      },
      "source": [
        "안녕하세요.<br><br>\n",
        "수강생 여러분~! Chapter05 ~ 08 수업은 잘 들으셨나요?\n",
        "\n",
        "Chapter05 ~ 08의 수업 내용을 바탕으로 아래 문제를 풀어주시면 됩니다.\n",
        "\n",
        "<br>\n",
        "\n",
        "\n",
        "[**답변 입력 방법**]\n",
        "\n",
        "문제 아래에 있는 코드 입력창에 정답코드를 작성하신 후  __▷ 버튼을 클릭해 코드를 실행__ 해보세요<br>"
      ]
    },
    {
      "cell_type": "markdown",
      "metadata": {
        "id": "qoyC9wF-3hvs"
      },
      "source": [
        "-----"
      ]
    },
    {
      "cell_type": "markdown",
      "metadata": {
        "id": "b7aUgI9H8wlJ"
      },
      "source": [
        "## 모험가들의 레벨업 도전\n",
        "\n",
        "### [배경 이야기]\n",
        "\n",
        "당신은 마법사, 전사, 도적, 힐러 네 명의 모험가를 이끄는 리더입니다.\n",
        "\n",
        "각 캐릭터는 힘, 민첩, 지능, 체력이라는 능력치를 가지고 있습니다. 이 능력치들을 이용해 다양한 도전을 해결하고 사냥을 통해 경험치를 얻어 레벨업을 해야 합니다.\n",
        "\n",
        "<br>\n",
        "\n",
        "### [동료 캐릭터와 능력치 정보]\n",
        "\n",
        "마법사: 힘(10), 민첩(20), 지능(80), 체력(50)\n",
        "\n",
        "전사: 힘(80), 민첩(30), 지능(20), 체력(100)\n",
        "\n",
        "도적: 힘(40), 민첩(80), 지능(30), 체력(60)\n",
        "\n",
        "힐러: 힘(20), 민첩(40), 지능(70), 체력(70)\n",
        "\n",
        "<br>\n",
        "\n",
        "* 변수명을 영어로 변경해서 풀어보세요 !"
      ]
    },
    {
      "cell_type": "markdown",
      "metadata": {
        "id": "SJsqae8q8wlJ"
      },
      "source": [
        "<br>\n",
        "\n",
        "__[문제 1: 첫 번째 사냥]__\n",
        "\n",
        "마법사는 몬스터를 사냥하기 위해 마법을 사용합니다.\n",
        "\n",
        "마법을 사용하려면 지능이 50 이상이어야 합니다.\n",
        "\n",
        "마법사의 지능이 50 이상인지 확인하세요."
      ]
    },
    {
      "cell_type": "code",
      "execution_count": 17,
      "metadata": {
        "colab": {
          "base_uri": "https://localhost:8080/"
        },
        "id": "G3zwdP8Q8wlJ",
        "outputId": "a2ab01d9-12df-49c3-ff0d-f93779b99f36"
      },
      "outputs": [
        {
          "output_type": "stream",
          "name": "stdout",
          "text": [
            "50 이상\n"
          ]
        }
      ],
      "source": [
        "magician={\"힘\":10,\"민첩\":20, \"지능\":80, \"체력\":50}\n",
        "warrior={\"힘\":80,\"민첩\":30,\"지능\":20,\"체력\":100}\n",
        "thief={\"힘\":40,\"민첩\":80,\"지능\":30, \"체력\":60}\n",
        "healer ={\"힘\":20 ,\"민첩\": 40, \"지능\":70, \"체력\":70}\n",
        "if magician[\"지능\"] >= 50 :\n",
        "   print(\"50 이상\")\n",
        "else: print(\"지능이 부족\")"
      ]
    },
    {
      "cell_type": "code",
      "execution_count": 18,
      "metadata": {
        "colab": {
          "base_uri": "https://localhost:8080/"
        },
        "id": "oyM2TW4v8wlK",
        "outputId": "a90d99a1-ed46-444e-990d-c9f5bae7d040"
      },
      "outputs": [
        {
          "output_type": "stream",
          "name": "stdout",
          "text": [
            "힘이 60 이상\n",
            "체력이 80이상\n"
          ]
        }
      ],
      "source": [
        "warrior={\"힘\":80, \"체력\":100}\n",
        "\n",
        "if warrior[\"힘\"]>=60:\n",
        "    print(\"힘이 60 이상\")\n",
        "    if warrior[\"체력\"]>=80 :\n",
        "        print(\"체력이 80이상\")"
      ]
    },
    {
      "cell_type": "markdown",
      "metadata": {
        "id": "2acG6cwO8wlJ"
      },
      "source": [
        "<br>\n",
        "\n",
        "__[문제 2: 두 번째 사냥]__\n",
        "\n",
        "전사는 강력한 공격을 하기 위해 자신의 힘을 사용합니다.\n",
        "\n",
        "전사의 힘이 60 이상이고 체력이 80 이상인지 확인하세요."
      ]
    },
    {
      "cell_type": "markdown",
      "metadata": {
        "id": "8wlx07kY8wlK"
      },
      "source": [
        "<br>\n",
        "\n",
        "__[문제 3: 세 번째 사냥]__\n",
        "\n",
        "도적은 민첩함을 이용해 몬스터를 회피하고 공격합니다.\n",
        "\n",
        "도적의 민첩이 70 이상이거나 힘이 50 이상인지 확인하세요."
      ]
    },
    {
      "cell_type": "code",
      "execution_count": 14,
      "metadata": {
        "id": "dgnhe0ca8wlK",
        "colab": {
          "base_uri": "https://localhost:8080/"
        },
        "outputId": "130c8481-9d2f-4c77-d935-076472d6e4e0"
      },
      "outputs": [
        {
          "output_type": "stream",
          "name": "stdout",
          "text": [
            "70이상입니다\n",
            "50이하입니다\n"
          ]
        }
      ],
      "source": [
        "thief={\"민첩\":80, \"힘\":40}\n",
        "\n",
        "if thief[\"민첩\"]>=70:\n",
        " print(\"70이상입니다\")\n",
        "if thief[\"힘\"]>=50:\n",
        " print(\"50이상입니다\")\n",
        "else:\n",
        "   print(\"50이하입니다\")"
      ]
    },
    {
      "cell_type": "markdown",
      "metadata": {
        "id": "5wfyP1Nc8wlK"
      },
      "source": [
        "<br>\n",
        "\n",
        "__[문제 4: 네 번째 사냥]__\n",
        "\n",
        "힐러는 파티의 체력을 회복시키기 위해 마법을 사용합니다.\n",
        "\n",
        "힐러의 지능이 60 이상이고, 체력이 50 이상인지 확인하세요."
      ]
    },
    {
      "cell_type": "code",
      "execution_count": 16,
      "metadata": {
        "id": "Bzxi7vzW8wlK",
        "colab": {
          "base_uri": "https://localhost:8080/"
        },
        "outputId": "dcb33945-be2e-4ca5-9d5f-509b88d6cf20"
      },
      "outputs": [
        {
          "output_type": "stream",
          "name": "stdout",
          "text": [
            "이상 입니다\n",
            "50이상입니다\n"
          ]
        }
      ],
      "source": [
        "healer={\"지능\":70,\"체력\":70}\n",
        "\n",
        "if healer[\"지능\"]>=60:\n",
        " print(\"이상 입니다\")\n",
        "if healer[\"체력\"]>=50:\n",
        " print(\"50이상입니다\")"
      ]
    },
    {
      "cell_type": "markdown",
      "metadata": {
        "id": "4a0uCH158wlK"
      },
      "source": [
        "<br>\n",
        "\n",
        "__[문제 5: 레벨업]__\n",
        "\n",
        "모든 캐릭터가 사냥을 성공적으로 마쳤습니다. 이제 경험치를 얻어 레벨업을 해야 합니다.\n",
        "\n",
        "\n",
        "각 캐릭터의 경험치가 100 이상인지 print()를 이용해 확인해주세요.\n",
        "\n",
        "<br>\n",
        "\n",
        "경험치는 아래와 같습니다.\n",
        "\n",
        "마법사: 120\n",
        "\n",
        "전사: 150\n",
        "\n",
        "도적: 110\n",
        "\n",
        "힐러: 90\n",
        "\n"
      ]
    },
    {
      "cell_type": "markdown",
      "source": [],
      "metadata": {
        "id": "fJoX3XvPNgML"
      }
    },
    {
      "cell_type": "code",
      "source": [
        "characters ={\"마법사\":120,\"도둑\":110,\n",
        "             \"전사\":150,\"힐러\":90}\n",
        "\n",
        "for character,exp in characters.items():\n",
        "  if exp >=100:\n",
        "       print(f\"{character}: 경험치{exp}, 100이상입니다\")\n",
        "  else:\n",
        "       print(f\"{character}:경험치{exp},100이하입니다\")\n",
        "\n"
      ],
      "metadata": {
        "colab": {
          "base_uri": "https://localhost:8080/"
        },
        "id": "__e37rtvNb4I",
        "outputId": "335bb20a-3a83-408b-c49d-57d733d55713"
      },
      "execution_count": 45,
      "outputs": [
        {
          "output_type": "stream",
          "name": "stdout",
          "text": [
            "마법사: 경험치120, 100이상입니다\n",
            "도둑: 경험치110, 100이상입니다\n",
            "전사: 경험치150, 100이상입니다\n",
            "힐러:경험치90,100이하입니다\n"
          ]
        }
      ]
    },
    {
      "cell_type": "code",
      "metadata": {
        "id": "7wXbIU-ZNgk5"
      },
      "source": [
        "magician={\"경험치\":120}\n",
        "warrior={\"경험치\":150}\n",
        "thief={\"경험치\":110}\n",
        "healer={\"경험치\":90}\n",
        "\n",
        "characters = [magician, warrior, thief, healer]\n",
        "\n",
        "for character in characters:\n",
        "    if character[\"경험치\"] >= 100:\n",
        "        print(\"100 이상입니다\")\n",
        "    else:\n",
        "        print(\"100 미만입니다\")"
      ],
      "execution_count": null,
      "outputs": []
    }
  ],
  "metadata": {
    "colab": {
      "provenance": [],
      "include_colab_link": true
    },
    "kernelspec": {
      "display_name": "Python 3",
      "name": "python3"
    },
    "language_info": {
      "name": "python"
    }
  },
  "nbformat": 4,
  "nbformat_minor": 0
}